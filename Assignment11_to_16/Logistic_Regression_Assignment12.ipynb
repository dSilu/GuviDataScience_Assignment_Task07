{
  "cells": [
    {
      "cell_type": "code",
      "execution_count": 1,
      "metadata": {
        "id": "xugUQsM_jkbL"
      },
      "outputs": [],
      "source": [
        "# Social_Network_Ads.csv"
      ]
    },
    {
      "cell_type": "markdown",
      "metadata": {
        "id": "t_YJ-uqLmRuD"
      },
      "source": [
        "This dataset contains information of users in a social network. Those informations are the user id the gender the age and the estimated salary. A car company has just launched their brand new luxury SUV. And we're trying to see which of these users of the social network are going to buy this brand new SUV And the last column here tells If yes or no the user bought this SUV we are going to build a model that is going to predict if a user is going to buy or not the SUV based on two variables which are going to be the age and the estimated salary. So our matrix of feature is only going to be these two columns. We want to find some correlations between the age and the estimated salary of a user and his decision to purchase yes or no the SUV.\n"
      ]
    },
    {
      "cell_type": "markdown",
      "metadata": {
        "id": "sgTgwccsk5Yu"
      },
      "source": [
        "**Step 1 | Data Pre-Processing**"
      ]
    },
    {
      "cell_type": "markdown",
      "metadata": {
        "id": "bKWN0MOblEKa"
      },
      "source": [
        "**Importing the Libraries**"
      ]
    },
    {
      "cell_type": "code",
      "execution_count": 2,
      "metadata": {
        "id": "8cIjONoJj8u0"
      },
      "outputs": [],
      "source": [
        "import pandas as pd\n",
        "import numpy as np\n",
        "import seaborn as sns\n",
        "import janitor \n",
        "import klib\n",
        "import warnings\n",
        "from matplotlib import pyplot as plt\n",
        "from sklearn import preprocessing, model_selection, metrics, linear_model\n",
        "\n",
        "%matplotlib inline\n",
        "warnings.filterwarnings('ignore')"
      ]
    },
    {
      "cell_type": "markdown",
      "metadata": {
        "id": "bM9O8a0YlNWk"
      },
      "source": [
        "**Importing the dataset**"
      ]
    },
    {
      "cell_type": "code",
      "execution_count": 3,
      "metadata": {
        "id": "vfPLWJHRlM-4"
      },
      "outputs": [
        {
          "data": {
            "text/html": [
              "<div>\n",
              "<style scoped>\n",
              "    .dataframe tbody tr th:only-of-type {\n",
              "        vertical-align: middle;\n",
              "    }\n",
              "\n",
              "    .dataframe tbody tr th {\n",
              "        vertical-align: top;\n",
              "    }\n",
              "\n",
              "    .dataframe thead th {\n",
              "        text-align: right;\n",
              "    }\n",
              "</style>\n",
              "<table border=\"1\" class=\"dataframe\">\n",
              "  <thead>\n",
              "    <tr style=\"text-align: right;\">\n",
              "      <th></th>\n",
              "      <th>User ID</th>\n",
              "      <th>Gender</th>\n",
              "      <th>Age</th>\n",
              "      <th>EstimatedSalary</th>\n",
              "      <th>Purchased</th>\n",
              "    </tr>\n",
              "  </thead>\n",
              "  <tbody>\n",
              "    <tr>\n",
              "      <th>0</th>\n",
              "      <td>15624510</td>\n",
              "      <td>Male</td>\n",
              "      <td>19</td>\n",
              "      <td>19000</td>\n",
              "      <td>0</td>\n",
              "    </tr>\n",
              "    <tr>\n",
              "      <th>1</th>\n",
              "      <td>15810944</td>\n",
              "      <td>Male</td>\n",
              "      <td>35</td>\n",
              "      <td>20000</td>\n",
              "      <td>0</td>\n",
              "    </tr>\n",
              "    <tr>\n",
              "      <th>2</th>\n",
              "      <td>15668575</td>\n",
              "      <td>Female</td>\n",
              "      <td>26</td>\n",
              "      <td>43000</td>\n",
              "      <td>0</td>\n",
              "    </tr>\n",
              "    <tr>\n",
              "      <th>3</th>\n",
              "      <td>15603246</td>\n",
              "      <td>Female</td>\n",
              "      <td>27</td>\n",
              "      <td>57000</td>\n",
              "      <td>0</td>\n",
              "    </tr>\n",
              "    <tr>\n",
              "      <th>4</th>\n",
              "      <td>15804002</td>\n",
              "      <td>Male</td>\n",
              "      <td>19</td>\n",
              "      <td>76000</td>\n",
              "      <td>0</td>\n",
              "    </tr>\n",
              "  </tbody>\n",
              "</table>\n",
              "</div>"
            ],
            "text/plain": [
              "    User ID  Gender  Age  EstimatedSalary  Purchased\n",
              "0  15624510    Male   19            19000          0\n",
              "1  15810944    Male   35            20000          0\n",
              "2  15668575  Female   26            43000          0\n",
              "3  15603246  Female   27            57000          0\n",
              "4  15804002    Male   19            76000          0"
            ]
          },
          "execution_count": 3,
          "metadata": {},
          "output_type": "execute_result"
        }
      ],
      "source": [
        "df = pd.read_csv('Social_Network_Ads.csv')\n",
        "\n",
        "df.head()"
      ]
    },
    {
      "cell_type": "code",
      "execution_count": 4,
      "metadata": {},
      "outputs": [],
      "source": [
        "\n",
        "# Clean the names\n",
        "df = janitor.clean_names(df)\n",
        "df = janitor.remove_columns(df, ['user_id'])"
      ]
    },
    {
      "cell_type": "code",
      "execution_count": 5,
      "metadata": {
        "id": "8LWipIjDj7yn"
      },
      "outputs": [
        {
          "data": {
            "text/plain": [
              "(400, 4)"
            ]
          },
          "execution_count": 5,
          "metadata": {},
          "output_type": "execute_result"
        }
      ],
      "source": [
        "# shape\n",
        "df.shape"
      ]
    },
    {
      "cell_type": "code",
      "execution_count": 6,
      "metadata": {},
      "outputs": [
        {
          "name": "stdout",
          "output_type": "stream",
          "text": [
            "<class 'pandas.core.frame.DataFrame'>\n",
            "RangeIndex: 400 entries, 0 to 399\n",
            "Data columns (total 4 columns):\n",
            " #   Column           Non-Null Count  Dtype \n",
            "---  ------           --------------  ----- \n",
            " 0   gender           400 non-null    object\n",
            " 1   age              400 non-null    int64 \n",
            " 2   estimatedsalary  400 non-null    int64 \n",
            " 3   purchased        400 non-null    int64 \n",
            "dtypes: int64(3), object(1)\n",
            "memory usage: 12.6+ KB\n"
          ]
        }
      ],
      "source": [
        "# info\n",
        "df. info()"
      ]
    },
    {
      "cell_type": "code",
      "execution_count": 7,
      "metadata": {},
      "outputs": [],
      "source": [
        "# Encoding of categorical feature\n",
        "df['gender'] = df['gender'].map({'Female':1, 'Male':0})"
      ]
    },
    {
      "cell_type": "markdown",
      "metadata": {
        "id": "eHCKYPHylT5K"
      },
      "source": [
        "**Splitting the dataset into the Training set and Test set**"
      ]
    },
    {
      "cell_type": "code",
      "execution_count": 23,
      "metadata": {},
      "outputs": [
        {
          "data": {
            "text/plain": [
              "((320, 3), (80, 3))"
            ]
          },
          "execution_count": 23,
          "metadata": {},
          "output_type": "execute_result"
        }
      ],
      "source": [
        "# shuffle\n",
        "shuffled_df = df.reindex(np.random.permutation(df.index))\n",
        "\n",
        "# feature and target\n",
        "X,y = shuffled_df.drop(columns='purchased'), shuffled_df['purchased']\n",
        "\n",
        "X_train, X_test, y_train, y_test = model_selection.train_test_split(X,y, random_state=25, test_size=0.20)\n",
        "\n",
        "X_train.shape, X_test.shape"
      ]
    },
    {
      "cell_type": "code",
      "execution_count": 24,
      "metadata": {},
      "outputs": [
        {
          "data": {
            "text/html": [
              "<div>\n",
              "<style scoped>\n",
              "    .dataframe tbody tr th:only-of-type {\n",
              "        vertical-align: middle;\n",
              "    }\n",
              "\n",
              "    .dataframe tbody tr th {\n",
              "        vertical-align: top;\n",
              "    }\n",
              "\n",
              "    .dataframe thead th {\n",
              "        text-align: right;\n",
              "    }\n",
              "</style>\n",
              "<table border=\"1\" class=\"dataframe\">\n",
              "  <thead>\n",
              "    <tr style=\"text-align: right;\">\n",
              "      <th></th>\n",
              "      <th>gender</th>\n",
              "      <th>age</th>\n",
              "      <th>estimatedsalary</th>\n",
              "    </tr>\n",
              "  </thead>\n",
              "  <tbody>\n",
              "    <tr>\n",
              "      <th>198</th>\n",
              "      <td>0</td>\n",
              "      <td>26</td>\n",
              "      <td>80000</td>\n",
              "    </tr>\n",
              "    <tr>\n",
              "      <th>38</th>\n",
              "      <td>1</td>\n",
              "      <td>26</td>\n",
              "      <td>72000</td>\n",
              "    </tr>\n",
              "    <tr>\n",
              "      <th>289</th>\n",
              "      <td>1</td>\n",
              "      <td>37</td>\n",
              "      <td>78000</td>\n",
              "    </tr>\n",
              "    <tr>\n",
              "      <th>112</th>\n",
              "      <td>0</td>\n",
              "      <td>38</td>\n",
              "      <td>61000</td>\n",
              "    </tr>\n",
              "    <tr>\n",
              "      <th>8</th>\n",
              "      <td>0</td>\n",
              "      <td>25</td>\n",
              "      <td>33000</td>\n",
              "    </tr>\n",
              "    <tr>\n",
              "      <th>86</th>\n",
              "      <td>0</td>\n",
              "      <td>24</td>\n",
              "      <td>55000</td>\n",
              "    </tr>\n",
              "    <tr>\n",
              "      <th>39</th>\n",
              "      <td>1</td>\n",
              "      <td>27</td>\n",
              "      <td>31000</td>\n",
              "    </tr>\n",
              "    <tr>\n",
              "      <th>298</th>\n",
              "      <td>0</td>\n",
              "      <td>45</td>\n",
              "      <td>79000</td>\n",
              "    </tr>\n",
              "    <tr>\n",
              "      <th>73</th>\n",
              "      <td>1</td>\n",
              "      <td>33</td>\n",
              "      <td>113000</td>\n",
              "    </tr>\n",
              "    <tr>\n",
              "      <th>30</th>\n",
              "      <td>0</td>\n",
              "      <td>31</td>\n",
              "      <td>74000</td>\n",
              "    </tr>\n",
              "  </tbody>\n",
              "</table>\n",
              "</div>"
            ],
            "text/plain": [
              "     gender  age  estimatedsalary\n",
              "198       0   26            80000\n",
              "38        1   26            72000\n",
              "289       1   37            78000\n",
              "112       0   38            61000\n",
              "8         0   25            33000\n",
              "86        0   24            55000\n",
              "39        1   27            31000\n",
              "298       0   45            79000\n",
              "73        1   33           113000\n",
              "30        0   31            74000"
            ]
          },
          "execution_count": 24,
          "metadata": {},
          "output_type": "execute_result"
        }
      ],
      "source": [
        "X.head(10)"
      ]
    },
    {
      "cell_type": "markdown",
      "metadata": {
        "id": "AsfmGeH6lZ0O"
      },
      "source": [
        "**Feature Scaling**"
      ]
    },
    {
      "cell_type": "code",
      "execution_count": 25,
      "metadata": {
        "id": "Xfifr6tlj77A"
      },
      "outputs": [],
      "source": [
        "scaler = preprocessing.StandardScaler()\n",
        "X_train =scaler.fit_transform(X_train)\n",
        "X_test = scaler.transform(X_test) "
      ]
    },
    {
      "cell_type": "markdown",
      "metadata": {
        "id": "UkiSpylklf7z"
      },
      "source": [
        "**Step 2 | Logistic Regression Model**"
      ]
    },
    {
      "cell_type": "markdown",
      "metadata": {
        "id": "rhZgd1t_mfYg"
      },
      "source": [
        "The library for this job which is going to be the linear model library and it is called linear because the logistic regression is a linear classifier which means that here since we're in two dimensions, our two categories of users are going to be separated by a straight line. Then import the logistic regression class. Next we will create a new object from this class which is going to be our classifier that we are going to fit on our training set."
      ]
    },
    {
      "cell_type": "markdown",
      "metadata": {
        "id": "oCUEcLBflmPn"
      },
      "source": [
        "**Fitting Logistic Regression to the Training set**"
      ]
    },
    {
      "cell_type": "code",
      "execution_count": 26,
      "metadata": {
        "id": "l8YSpSphj8FN"
      },
      "outputs": [
        {
          "data": {
            "text/plain": [
              "LogisticRegression()"
            ]
          },
          "execution_count": 26,
          "metadata": {},
          "output_type": "execute_result"
        }
      ],
      "source": [
        "logreg = linear_model.LogisticRegression()\n",
        "logreg.fit(X_train, y_train)"
      ]
    },
    {
      "cell_type": "markdown",
      "metadata": {
        "id": "0DpkLwdRlvXX"
      },
      "source": [
        "**Step 3 | Predection**"
      ]
    },
    {
      "cell_type": "code",
      "execution_count": 27,
      "metadata": {
        "id": "5X1PxviQlp0C"
      },
      "outputs": [],
      "source": [
        "y_pred= logreg.predict(X_test)"
      ]
    },
    {
      "cell_type": "code",
      "execution_count": 28,
      "metadata": {},
      "outputs": [
        {
          "data": {
            "text/plain": [
              "array([[5.50976560e-02, 9.44902344e-01],\n",
              "       [7.91030669e-01, 2.08969331e-01],\n",
              "       [2.82079573e-02, 9.71792043e-01],\n",
              "       [9.82866204e-01, 1.71337961e-02],\n",
              "       [8.51034766e-01, 1.48965234e-01],\n",
              "       [1.11469642e-01, 8.88530358e-01],\n",
              "       [2.06387175e-01, 7.93612825e-01],\n",
              "       [5.63177639e-01, 4.36822361e-01],\n",
              "       [5.49929403e-02, 9.45007060e-01],\n",
              "       [9.71008839e-01, 2.89911610e-02],\n",
              "       [9.93459769e-01, 6.54023112e-03],\n",
              "       [9.78084471e-01, 2.19155287e-02],\n",
              "       [9.93325617e-01, 6.67438274e-03],\n",
              "       [9.48183599e-01, 5.18164007e-02],\n",
              "       [6.90248256e-01, 3.09751744e-01],\n",
              "       [7.67835093e-01, 2.32164907e-01],\n",
              "       [9.88432974e-01, 1.15670260e-02],\n",
              "       [4.59864861e-01, 5.40135139e-01],\n",
              "       [9.82288390e-01, 1.77116103e-02],\n",
              "       [1.62407638e-01, 8.37592362e-01],\n",
              "       [4.41123349e-01, 5.58876651e-01],\n",
              "       [9.81085897e-01, 1.89141026e-02],\n",
              "       [3.70004460e-01, 6.29995540e-01],\n",
              "       [5.22434872e-02, 9.47756513e-01],\n",
              "       [4.10881302e-01, 5.89118698e-01],\n",
              "       [9.29570102e-01, 7.04298983e-02],\n",
              "       [6.62259805e-01, 3.37740195e-01],\n",
              "       [1.21303613e-02, 9.87869639e-01],\n",
              "       [9.86033975e-01, 1.39660254e-02],\n",
              "       [7.09370185e-01, 2.90629815e-01],\n",
              "       [7.79894658e-01, 2.20105342e-01],\n",
              "       [9.92804402e-01, 7.19559779e-03],\n",
              "       [5.77708385e-01, 4.22291615e-01],\n",
              "       [3.63818163e-01, 6.36181837e-01],\n",
              "       [8.49080905e-01, 1.50919095e-01],\n",
              "       [8.75295951e-02, 9.12470405e-01],\n",
              "       [9.46499827e-01, 5.35001733e-02],\n",
              "       [5.21039392e-01, 4.78960608e-01],\n",
              "       [5.76050527e-01, 4.23949473e-01],\n",
              "       [7.93962266e-01, 2.06037734e-01],\n",
              "       [3.45249122e-01, 6.54750878e-01],\n",
              "       [9.88196939e-01, 1.18030610e-02],\n",
              "       [7.04369463e-01, 2.95630537e-01],\n",
              "       [2.52311597e-02, 9.74768840e-01],\n",
              "       [9.99037750e-01, 9.62249681e-04],\n",
              "       [5.25268641e-02, 9.47473136e-01],\n",
              "       [6.74821449e-01, 3.25178551e-01],\n",
              "       [4.96176675e-03, 9.95038233e-01],\n",
              "       [1.81532553e-01, 8.18467447e-01],\n",
              "       [5.09133170e-01, 4.90866830e-01],\n",
              "       [2.51863287e-01, 7.48136713e-01],\n",
              "       [9.72623664e-01, 2.73763361e-02],\n",
              "       [3.21546404e-02, 9.67845360e-01],\n",
              "       [5.12610262e-01, 4.87389738e-01],\n",
              "       [1.41850348e-02, 9.85814965e-01],\n",
              "       [9.96422141e-01, 3.57785909e-03],\n",
              "       [8.33607501e-01, 1.66392499e-01],\n",
              "       [6.84090501e-01, 3.15909499e-01],\n",
              "       [5.84380384e-02, 9.41561962e-01],\n",
              "       [9.54368394e-01, 4.56316059e-02],\n",
              "       [8.29326305e-02, 9.17067370e-01],\n",
              "       [1.98006051e-02, 9.80199395e-01],\n",
              "       [7.96458654e-01, 2.03541346e-01],\n",
              "       [9.66727950e-01, 3.32720500e-02],\n",
              "       [4.24551764e-01, 5.75448236e-01],\n",
              "       [6.32150929e-01, 3.67849071e-01],\n",
              "       [6.86294907e-01, 3.13705093e-01],\n",
              "       [9.25373591e-01, 7.46264089e-02],\n",
              "       [9.89146736e-01, 1.08532641e-02],\n",
              "       [5.52828708e-01, 4.47171292e-01],\n",
              "       [9.98093432e-01, 1.90656804e-03],\n",
              "       [5.35667612e-01, 4.64332388e-01],\n",
              "       [9.33547574e-01, 6.64524261e-02],\n",
              "       [7.90697694e-01, 2.09302306e-01],\n",
              "       [9.70387269e-01, 2.96127310e-02],\n",
              "       [7.54064670e-01, 2.45935330e-01],\n",
              "       [9.91921744e-01, 8.07825634e-03],\n",
              "       [9.38093427e-01, 6.19065734e-02],\n",
              "       [9.87882230e-01, 1.21177696e-02],\n",
              "       [8.73243204e-01, 1.26756796e-01]])"
            ]
          },
          "execution_count": 28,
          "metadata": {},
          "output_type": "execute_result"
        }
      ],
      "source": [
        "logreg.predict_proba(X_test)"
      ]
    },
    {
      "cell_type": "markdown",
      "metadata": {
        "id": "vdX1IU-Fl7Ak"
      },
      "source": [
        "**Step 4 | Evaluating The Predection**"
      ]
    },
    {
      "cell_type": "markdown",
      "metadata": {
        "id": "zPdZLTTQmqa9"
      },
      "source": [
        "We predicted the test results and now we will evaluate if our logistic regression model learned and understood correctly. So this confusion matrix is going to contain the correct predictions that our model made on the set as well as the incorrect predictions."
      ]
    },
    {
      "cell_type": "code",
      "execution_count": 29,
      "metadata": {},
      "outputs": [
        {
          "name": "stdout",
          "output_type": "stream",
          "text": [
            "Train score: 0.853125\n",
            "Test score: 0.875\n"
          ]
        }
      ],
      "source": [
        "print(\"Train score:\", logreg.score(X_train, y_train))\n",
        "print(\"Test score:\", logreg.score(X_test, y_test))"
      ]
    },
    {
      "cell_type": "code",
      "execution_count": 30,
      "metadata": {},
      "outputs": [
        {
          "name": "stdout",
          "output_type": "stream",
          "text": [
            "              precision    recall  f1-score   support\n",
            "\n",
            "           1       0.81      0.81      0.81        26\n",
            "           2       0.00      0.00      0.00         0\n",
            "           3       0.00      0.00      0.00         0\n",
            "\n",
            "   micro avg       0.81      0.81      0.81        26\n",
            "   macro avg       0.27      0.27      0.27        26\n",
            "weighted avg       0.81      0.81      0.81        26\n",
            "\n"
          ]
        }
      ],
      "source": [
        "print(metrics.classification_report(y_test, y_pred, labels=[1,2,3]))"
      ]
    },
    {
      "cell_type": "code",
      "execution_count": 31,
      "metadata": {},
      "outputs": [
        {
          "data": {
            "text/plain": [
              "array([[-0.13061703,  2.41471223,  1.15748672]])"
            ]
          },
          "execution_count": 31,
          "metadata": {},
          "output_type": "execute_result"
        }
      ],
      "source": [
        "# coefficient \n",
        "logreg.coef_"
      ]
    },
    {
      "cell_type": "code",
      "execution_count": 32,
      "metadata": {},
      "outputs": [
        {
          "data": {
            "text/plain": [
              "Index(['gender', 'age', 'estimatedsalary'], dtype='object')"
            ]
          },
          "execution_count": 32,
          "metadata": {},
          "output_type": "execute_result"
        }
      ],
      "source": [
        "X.columns"
      ]
    },
    {
      "cell_type": "code",
      "execution_count": 33,
      "metadata": {},
      "outputs": [
        {
          "data": {
            "image/png": "[encoded data removed]",
            "text/plain": [
              "<Figure size 432x288 with 1 Axes>"
            ]
          },
          "metadata": {
            "needs_background": "light"
          },
          "output_type": "display_data"
        }
      ],
      "source": [
        "coefficient = pd.Series(logreg.coef_.flatten(), index=X.columns.tolist())\n",
        "coefficient.plot(kind='barh');"
      ]
    },
    {
      "cell_type": "code",
      "execution_count": 34,
      "metadata": {},
      "outputs": [
        {
          "data": {
            "text/plain": [
              "array([-1.05006166])"
            ]
          },
          "execution_count": 34,
          "metadata": {},
          "output_type": "execute_result"
        }
      ],
      "source": [
        "# intercept\n",
        "logreg.intercept_"
      ]
    },
    {
      "cell_type": "markdown",
      "metadata": {
        "id": "bxjKgSYvmBDn"
      },
      "source": [
        "**Making the Confusion Matrix**"
      ]
    },
    {
      "cell_type": "code",
      "execution_count": 35,
      "metadata": {
        "id": "2_afjfcjlp88"
      },
      "outputs": [
        {
          "data": {
            "text/plain": [
              "array([[49,  5],\n",
              "       [ 5, 21]])"
            ]
          },
          "execution_count": 35,
          "metadata": {},
          "output_type": "execute_result"
        }
      ],
      "source": [
        "cm = metrics.confusion_matrix(y_test, y_pred)\n",
        "cm"
      ]
    },
    {
      "cell_type": "code",
      "execution_count": 36,
      "metadata": {},
      "outputs": [
        {
          "data": {
            "image/png": "[encoded data removed]",
            "text/plain": [
              "<Figure size 432x288 with 2 Axes>"
            ]
          },
          "metadata": {
            "needs_background": "light"
          },
          "output_type": "display_data"
        }
      ],
      "source": [
        "metrics.plot_confusion_matrix(logreg, X_test, y_test);"
      ]
    },
    {
      "cell_type": "markdown",
      "metadata": {
        "id": "DARs2T8GmG3v"
      },
      "source": [
        "**Visualization**"
      ]
    },
    {
      "cell_type": "code",
      "execution_count": 37,
      "metadata": {},
      "outputs": [
        {
          "data": {
            "image/png": "[encoded data removed]",
            "text/plain": [
              "<Figure size 432x288 with 1 Axes>"
            ]
          },
          "metadata": {
            "needs_background": "light"
          },
          "output_type": "display_data"
        }
      ],
      "source": [
        "fpr, tpr, thresholds = metrics.roc_curve(y_test, y_pred)\n",
        "roc_auc = metrics.auc(fpr, tpr)\n",
        "display = metrics.RocCurveDisplay(fpr=fpr, tpr=tpr, roc_auc=roc_auc, estimator_name='Logistic Regression')\n",
        "display.plot();"
      ]
    },
    {
      "cell_type": "code",
      "execution_count": null,
      "metadata": {},
      "outputs": [],
      "source": []
    }
  ],
  "metadata": {
    "colab": {
      "name": "Logistic_Regression_Assignment12.ipynb",
      "provenance": []
    },
    "kernelspec": {
      "display_name": "Python 3",
      "name": "python3"
    },
    "language_info": {
      "codemirror_mode": {
        "name": "ipython",
        "version": 3
      },
      "file_extension": ".py",
      "mimetype": "text/x-python",
      "name": "python",
      "nbconvert_exporter": "python",
      "pygments_lexer": "ipython3",
      "version": "3.9.7"
    }
  },
  "nbformat": 4,
  "nbformat_minor": 0
}
